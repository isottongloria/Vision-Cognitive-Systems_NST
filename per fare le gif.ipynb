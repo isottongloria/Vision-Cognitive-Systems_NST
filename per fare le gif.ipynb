{
 "cells": [
  {
   "cell_type": "code",
   "execution_count": 6,
   "id": "af5915ca",
   "metadata": {},
   "outputs": [
    {
     "name": "stderr",
     "output_type": "stream",
     "text": [
      "/tmp/ipykernel_9066/402311121.py:13: DeprecationWarning: Starting with ImageIO v3 the behavior of this function will switch to that of iio.v3.imread. To keep the current behavior (and make this warning disappear) use `import imageio.v2 as imageio` or call `imageio.v2.imread` directly.\n",
      "  images.append(imageio.imread(image_path))\n"
     ]
    }
   ],
   "source": [
    "import imageio\n",
    "import os\n",
    "\n",
    "# Path della cartella delle immagini\n",
    "image_folder = \"/home/gloria/Scrivania/Vision_and_cognitive_system/content_style/intermediate/House_various_styles/Mosaic_style\"\n",
    "output_gif_path = \"/home/gloria/Scrivania/Vision_and_cognitive_system/content_style/intermediate/House_various_styles/Mosaic_style/final.gif\"\n",
    "\n",
    "# Lista delle immagini\n",
    "images = []\n",
    "for i in range(5, 121, 5):\n",
    "    image_name = f\"nst-house2-mosaic-{i}.jpg\"\n",
    "    image_path = os.path.join(image_folder, image_name)\n",
    "    images.append(imageio.imread(image_path))\n",
    "\n",
    "# Salva la GIF\n",
    "imageio.mimsave(output_gif_path, images, duration=0.25)\n"
   ]
  },
  {
   "cell_type": "code",
   "execution_count": null,
   "id": "2647e91d",
   "metadata": {},
   "outputs": [],
   "source": []
  }
 ],
 "metadata": {
  "kernelspec": {
   "display_name": "Python 3 (ipykernel)",
   "language": "python",
   "name": "python3"
  },
  "language_info": {
   "codemirror_mode": {
    "name": "ipython",
    "version": 3
   },
   "file_extension": ".py",
   "mimetype": "text/x-python",
   "name": "python",
   "nbconvert_exporter": "python",
   "pygments_lexer": "ipython3",
   "version": "3.10.9"
  }
 },
 "nbformat": 4,
 "nbformat_minor": 5
}
